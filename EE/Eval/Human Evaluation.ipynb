{
 "cells": [
  {
   "cell_type": "code",
   "execution_count": 2,
   "id": "initial_id",
   "metadata": {
    "collapsed": true,
    "ExecuteTime": {
     "end_time": "2024-01-22T12:48:16.512242800Z",
     "start_time": "2024-01-22T12:48:16.511240500Z"
    }
   },
   "outputs": [],
   "source": [
    "import json"
   ]
  },
  {
   "cell_type": "code",
   "execution_count": 4,
   "outputs": [],
   "source": [
    "with open(\"md5_list.json\", 'r') as f:\n",
    "    md5 = json.load(f)\n",
    "\n",
    "with open(\"doc.json\", 'r') as f:\n",
    "    doc = json.load(f)\n",
    "    \n",
    "with open(\"trunkid.json\", 'r') as f:\n",
    "    trunk = json.load(f)"
   ],
   "metadata": {
    "collapsed": false,
    "ExecuteTime": {
     "end_time": "2024-01-22T13:01:23.550791700Z",
     "start_time": "2024-01-22T13:01:23.543360700Z"
    }
   },
   "id": "ccc38047988b270c"
  },
  {
   "cell_type": "markdown",
   "source": [],
   "metadata": {
    "collapsed": false
   },
   "id": "59463f645954ffe4"
  },
  {
   "cell_type": "code",
   "execution_count": 8,
   "outputs": [],
   "source": [
    "cnt = -1\n",
    "md5_list = md5[\"md5\"]"
   ],
   "metadata": {
    "collapsed": false,
    "ExecuteTime": {
     "end_time": "2024-01-22T13:03:29.716519400Z",
     "start_time": "2024-01-22T13:03:29.708496900Z"
    }
   },
   "id": "9a40a916eedaed5d"
  },
  {
   "cell_type": "code",
   "execution_count": 69,
   "outputs": [],
   "source": [
    "cnt += 1\n",
    "MD5 = md5_list[cnt]"
   ],
   "metadata": {
    "collapsed": false,
    "ExecuteTime": {
     "end_time": "2024-01-22T13:39:12.101067100Z",
     "start_time": "2024-01-22T13:39:12.092479200Z"
    }
   },
   "id": "c6954bbfdea8b1b"
  },
  {
   "cell_type": "markdown",
   "source": [
    "- Total Article"
   ],
   "metadata": {
    "collapsed": false
   },
   "id": "88b358f2eaaae368"
  },
  {
   "cell_type": "code",
   "execution_count": 70,
   "outputs": [
    {
     "name": "stdout",
     "output_type": "stream",
     "text": [
      "Title : \n",
      "Cabinet Calls on Egypt to Continue with Talks in Order to Reach Peace Agreement\n",
      "\n",
      "\n",
      "\n",
      "Text : \n",
      "The Cabinet called on Egypt today to continue the Jarring talks “in order to reach a peace agreement between the two states.” Contrary to some expectations, the Cabinet did not attach the condition that such talks be face-to-face, thus leaving Cairo free to continue the indirect procedure applied to date. But the policymakers stated unequivocally that Israel “will not” restore the pre-Six-Day War borders of June 4, 1967. The resolution issued by the Cabinet today followed a debate that had begun at a special meeting last Thursday. In the resolution, the Cabinet declared that “the government of Israel views favorably the expression of the readiness of the government of Egypt to enter into a peace agreement with Israel, and expresses its own readiness for meaningful negotiations on all subjects relevant to a peace agreement between the two countries.” It was reported late last week that in its Feb. 15 aide memoire to United Nations negotiator Dr. Gunnar V. Jarring, Cairo for the first time indicated a willingness to effect a peace “agreement”–but not a peace “treaty” with Israel. The Cabinet said today that “the government of Israel hopes for a positive response by Egypt and for progress in the negotiations.”\n",
      "The resolution remarked that “the Egyptian note demonstrates the concrete differences between Egypt’s positions and those of Israel, and particularly the substantial gap which exists on the issues of borders and refugees.” it noted in this connection that “Egypt demands total withdrawal to the armistice lines, while the position of Israel is…that it will be ready to discuss the withdrawal of armed forces towards secure, recognized and agreed boundaries to be established in peace agreements.” The negotiations, the Cabinet stressed, “should not be subject to prior commitments on the outstanding issues,” But the key phrase in the Cabinet resolution was that Israel “views favorably…the readiness of…Egypt to enter into a peace agreement with Israel.” The question of what to say in the statement was thrashed out informally over the weekend by Premier Golda Meir, her senior Cabinet colleagues and Yitzhak Rabin, ambassador to the United States. Rabin, who arrived here Friday on urgent summons, reportedly conveyed to Mrs. Meir his distinct impression that if Israel rejected Egypt’s offer she would run the risk of losing American support. (At the airport on his arrival, Rabin told newsmen he was unaware of any special American pressure, but added: “It depends what you regard as pressure.”)\n",
      "ALLON, EBAN, SAPIR FAVOR ACCEPTING SADAT’S PROPOSAL; MRS. MEIR, GALILI OPPOSED\n",
      "It was understood that Mrs. Meir and her confidant, Minister Without-Portfolio Israel Galili, were against accepting Cairo’s offer, whereas Deputy Premier Yigal Allon, Foreign Minister Abba Eban and Finance Minister Pinhas Sapir favored acceptance. The current position of mercurial Defense Minister Moshe Dayan is not known for certain. But despite doubts about Egypt’s sincerity, the Israeli government welcomed its willingness to conclude a peace pact of some kind. A Foreign Ministry spokesman commented to the Jewish Telegraphic Agency today that Israel would never agree to restrict Jewish immigration, even if it meant the foundering of the peace talks. Egypt’s UN ambassador, Dr. Mohammed H. el Zayyat, was quoted in a New York daily last week as endorsing the sovereignty of a Jewish State of Israel if her government stopped the influx of Jews.\n",
      "The alleged remark gave rise to speculation that such a proposal was included in Cairo’s Feb. 15 message to Dr. Jarring. But Dr. Zayyat immediately told the JTA that the published story was “non-sense,” and reliable sources confirmed today that the Egyptian message made no mention of immigrants. Meanwhile, political circles in Jerusalem said Jordan would soon approve Dr. Jarring’s reported suggestion that Amman sign a peace accord with Israel after some territorial adjustments. And in another development, the Interparty Secretariat Against Withdrawal From Administered Territories–composed of Knesset members and professionals of all parties–urged the Meir administration to reject any demand for an unconditional pullback from the areas captured in the Six-Day War.\n"
     ]
    }
   ],
   "source": [
    "print(\"Title : \\n\" + doc[MD5][\"Title\"])\n",
    "print(\"\\n\\n\")\n",
    "print(\"Text : \\n\" + \"\\n\".join(doc[MD5][\"Text\"]))"
   ],
   "metadata": {
    "collapsed": false,
    "ExecuteTime": {
     "end_time": "2024-01-22T13:39:17.357699900Z",
     "start_time": "2024-01-22T13:39:17.348591300Z"
    }
   },
   "id": "3de4e6d404a69431"
  },
  {
   "cell_type": "markdown",
   "source": [
    "- Extracting Results without Linking"
   ],
   "metadata": {
    "collapsed": false
   },
   "id": "162edf56bfad27ef"
  },
  {
   "cell_type": "code",
   "execution_count": 71,
   "outputs": [],
   "source": [
    "with open(\"all_events.json\", 'r') as f:\n",
    "    results = json.load(f)"
   ],
   "metadata": {
    "collapsed": false,
    "ExecuteTime": {
     "end_time": "2024-01-22T13:39:20.485794100Z",
     "start_time": "2024-01-22T13:39:20.480476700Z"
    }
   },
   "id": "688d6c0a233b323e"
  },
  {
   "cell_type": "code",
   "execution_count": 72,
   "outputs": [],
   "source": [
    "result_dic = {}\n",
    "for result in results[MD5]:\n",
    "    result_list = result.split(\";\")\n",
    "    # print(result_list)\n",
    "    Trunk = result_list[4]\n",
    "    Trunk = Trunk[2:-1]\n",
    "    if Trunk not in result_dic:\n",
    "        result_dic[Trunk] = [result_list]\n",
    "    else:\n",
    "        result_dic[Trunk].append(result_list)\n",
    "result_cnt = -1"
   ],
   "metadata": {
    "collapsed": false,
    "ExecuteTime": {
     "end_time": "2024-01-22T13:39:21.073770700Z",
     "start_time": "2024-01-22T13:39:21.069764100Z"
    }
   },
   "id": "1ca8e640f06128e1"
  },
  {
   "cell_type": "code",
   "execution_count": 76,
   "outputs": [],
   "source": [
    "# get trunk\n",
    "result_cnt += 1\n",
    "item = list(result_dic.items())\n",
    "for key, value in item[result_cnt:result_cnt+1]:\n",
    "    print(\"Md5 number : \" + MD5 + '\\n')\n",
    "    result_list = value[0]\n",
    "    Trunk = result_list[4]\n",
    "    Trunk = Trunk[2:-1]\n",
    "    Trunk_list = Trunk.split(\":\")\n",
    "    \n",
    "    triplet_list = []\n",
    "    for v in value:\n",
    "        triplet = v[0] + \";\" + v[1] + \";\" + v[2]\n",
    "        triplet_list.append(triplet)\n",
    "    print(\"Trunk number : \" + Trunk_list[0] + '\\n')\n",
    "    if Trunk_list[0] == '0':\n",
    "        print(\"Trunk : \" + doc[MD5][\"Title\"])\n",
    "        print(\"\\n\\n\")\n",
    "        print(\"Extraction Result : \\n\" + \"\\n\".join(triplet_list))\n",
    "    else:\n",
    "        Trunk1 = int(Trunk_list[1])\n",
    "        Trunk2 = int(Trunk_list[2])\n",
    "        text_article = doc[MD5]['Text']\n",
    "        print(\"Trunk : \")\n",
    "        for i in range(Trunk1, Trunk2):\n",
    "            print(text_article[i])\n",
    "        print(text_article[Trunk2] + \"\\n\\n\")\n",
    "        print(\"Extraction Result : \\n\" + \"\\n\".join(triplet_list))"
   ],
   "metadata": {
    "collapsed": false,
    "ExecuteTime": {
     "end_time": "2024-01-22T13:39:31.321202700Z",
     "start_time": "2024-01-22T13:39:31.316693100Z"
    }
   },
   "id": "dc93a26af21ba77b"
  },
  {
   "cell_type": "markdown",
   "source": [
    "- Extracting Results with Linking"
   ],
   "metadata": {
    "collapsed": false
   },
   "id": "fa1c92ed0da846ff"
  },
  {
   "cell_type": "code",
   "execution_count": 77,
   "outputs": [],
   "source": [
    "with open(\"all_events_link.json\", 'r') as f:\n",
    "    results = json.load(f)"
   ],
   "metadata": {
    "collapsed": false,
    "ExecuteTime": {
     "end_time": "2024-01-22T13:39:34.309520700Z",
     "start_time": "2024-01-22T13:39:34.304075Z"
    }
   },
   "id": "d006b686cf6ae43e"
  },
  {
   "cell_type": "code",
   "execution_count": 78,
   "outputs": [],
   "source": [
    "result_dic_link = {}\n",
    "for result in results[MD5]:\n",
    "    result_list = result.split(\";\")\n",
    "    # print(result_list)\n",
    "    Trunk = result_list[4]\n",
    "    Trunk = Trunk[2:-1]\n",
    "    if Trunk not in result_dic_link:\n",
    "        result_dic_link[Trunk] = [result_list]\n",
    "    else:\n",
    "        result_dic_link[Trunk].append(result_list)\n",
    "result_link_cnt = -1"
   ],
   "metadata": {
    "collapsed": false,
    "ExecuteTime": {
     "end_time": "2024-01-22T13:39:34.679244800Z",
     "start_time": "2024-01-22T13:39:34.675204600Z"
    }
   },
   "id": "f6de2a19956e3615"
  },
  {
   "cell_type": "code",
   "execution_count": 81,
   "outputs": [],
   "source": [
    "# get trunk\n",
    "result_link_cnt += 1\n",
    "item = list(result_dic_link.items())\n",
    "for key, value in item[result_link_cnt: result_link_cnt+1]:\n",
    "    print(\"Md5 number : \" + MD5 + '\\n')\n",
    "    result_list = value[0]\n",
    "    Trunk = result_list[4]\n",
    "    Trunk = Trunk[2:-1]\n",
    "    Trunk_list = Trunk.split(\":\")\n",
    "    \n",
    "    triplet_list = []\n",
    "    for v in value:\n",
    "        triplet = v[0] + \";\" + v[1] + \";\" + v[2]\n",
    "        triplet_list.append(triplet)\n",
    "    print(\"Trunk number : \" + Trunk_list[0] + '\\n')\n",
    "    if Trunk_list[0] == '0':\n",
    "        print(\"Trunk : \" + doc[MD5][\"Title\"])\n",
    "        print(\"\\n\\n\")\n",
    "        print(\"Extraction Result : \\n\" + \"\\n\".join(triplet_list))\n",
    "    else:\n",
    "        Trunk1 = int(Trunk_list[1])\n",
    "        Trunk2 = int(Trunk_list[2])\n",
    "        text_article = doc[MD5]['Text']\n",
    "        print(\"Trunk : \")\n",
    "        for i in range(Trunk1, Trunk2):\n",
    "            print(text_article[i])\n",
    "        print(text_article[Trunk2] + \"\\n\\n\")\n",
    "        print(\"Extraction Result : \\n\" + \"\\n\".join(triplet_list))"
   ],
   "metadata": {
    "collapsed": false,
    "ExecuteTime": {
     "end_time": "2024-01-22T13:39:40.775101600Z",
     "start_time": "2024-01-22T13:39:40.766870700Z"
    }
   },
   "id": "6c01d3ef1cdb987"
  },
  {
   "cell_type": "code",
   "execution_count": null,
   "outputs": [],
   "source": [],
   "metadata": {
    "collapsed": false
   },
   "id": "5b4f54fdce4ac410"
  }
 ],
 "metadata": {
  "kernelspec": {
   "display_name": "Python 3",
   "language": "python",
   "name": "python3"
  },
  "language_info": {
   "codemirror_mode": {
    "name": "ipython",
    "version": 2
   },
   "file_extension": ".py",
   "mimetype": "text/x-python",
   "name": "python",
   "nbconvert_exporter": "python",
   "pygments_lexer": "ipython2",
   "version": "2.7.6"
  }
 },
 "nbformat": 4,
 "nbformat_minor": 5
}
